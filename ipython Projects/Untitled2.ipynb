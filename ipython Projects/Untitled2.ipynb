{
 "metadata": {
  "name": "",
  "signature": "sha256:68de5213429c40c36e6270216053073a638ac99989f2ebb60ee4a6fc64dec021"
 },
 "nbformat": 3,
 "nbformat_minor": 0,
 "worksheets": []
}